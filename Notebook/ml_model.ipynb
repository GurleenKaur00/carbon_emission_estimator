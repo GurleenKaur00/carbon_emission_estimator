{
 "cells": [
  {
   "cell_type": "code",
   "execution_count": 16,
   "id": "a99f6e8d",
   "metadata": {},
   "outputs": [],
   "source": [
    "import pandas as pd\n",
    "import numpy as np\n",
    "\n",
    "from sklearn.model_selection import train_test_split\n",
    "from sklearn.preprocessing import OneHotEncoder, StandardScaler\n",
    "from sklearn.compose import ColumnTransformer\n",
    "from sklearn.pipeline import Pipeline\n",
    "from sklearn.ensemble import RandomForestRegressor\n",
    "from sklearn.metrics import mean_absolute_error, mean_squared_error, r2_score\n"
   ]
  },
  {
   "cell_type": "code",
   "execution_count": 17,
   "id": "7c81648a",
   "metadata": {},
   "outputs": [
    {
     "name": "stdout",
     "output_type": "stream",
     "text": [
      "Original Shape: (2109, 27)\n"
     ]
    }
   ],
   "source": [
    "df = pd.read_csv(\"../dataset/carbon_emission_final_engineered.csv\")\n",
    "print(\"Original Shape:\", df.shape)\n",
    "\n",
    "# Drop helper/classification columns\n",
    "drop_cols = ['co2_per_km', 'co2_per_litre', 'efficiency_score', 'high_emitter',\n",
    "             'low_efficiency', 'co2_tier']\n",
    "\n",
    "df.drop(columns=[col for col in drop_cols if col in df.columns], inplace=True)\n"
   ]
  },
  {
   "cell_type": "code",
   "execution_count": 18,
   "id": "89eaffc6",
   "metadata": {},
   "outputs": [],
   "source": [
    "def add_more_real_world_noise(df):\n",
    "    noisy_df = df.copy()\n",
    "    np.random.seed(42)\n",
    "\n",
    "    # Add stronger noise\n",
    "    noisy_df['average_speed_in_km_per_hr'] *= np.random.normal(1.0, 0.12, size=len(df))\n",
    "    noisy_df['no_of_stop'] += np.random.randint(-2, 3, size=len(df))\n",
    "    noisy_df['load_factor'] *= np.random.normal(1.0, 0.08, size=len(df))\n",
    "    noisy_df['adjusted_fuel_efficiency_in_km_litre'] *= np.random.normal(1.0, 0.18, size=len(df))\n",
    "    noisy_df['adjusted_energy_kwh_per_km'] *= np.random.normal(1.0, 0.18, size=len(df))\n",
    "    noisy_df['fuel_per_km'] *= np.random.normal(1.0, 0.12, size=len(df))\n",
    "    noisy_df['total_energy_kwh'] *= np.random.normal(1.0, 0.10, size=len(df))\n",
    "\n",
    "    # Inject slight noise into target as well\n",
    "    noisy_df['c02_emission_kg'] *= np.random.normal(1.0, 0.05, size=len(df))\n",
    "\n",
    "    # Clamp to realistic bounds\n",
    "    noisy_df['load_factor'] = noisy_df['load_factor'].clip(0.1, 1.0)\n",
    "    noisy_df['no_of_stop'] = noisy_df['no_of_stop'].clip(lower=0)\n",
    "    noisy_df['adjusted_fuel_efficiency_in_km_litre'] = noisy_df['adjusted_fuel_efficiency_in_km_litre'].clip(lower=1.0)\n",
    "\n",
    "    return noisy_df\n",
    "\n",
    "\n",
    "# Apply the function\n",
    "df = add_more_real_world_noise(df)\n"
   ]
  },
  {
   "cell_type": "code",
   "execution_count": 19,
   "id": "cc1b8455",
   "metadata": {},
   "outputs": [],
   "source": [
    "features = [\n",
    "    'distance_in_km_per_route', 'vehicle_age_in_years', 'load_factor',\n",
    "    'no_of_stop', 'average_speed_in_km_per_hr',\n",
    "    'adjusted_fuel_efficiency_in_km_litre', 'adjusted_energy_kwh_per_km',\n",
    "    'fuel_per_km', 'total_energy_kwh', 'speed_per_stop', 'load_utilization',\n",
    "    'vehicle_type', 'fuel_type', 'traffic_condition', 'engine_norm_type',\n",
    "    'logistics_partner', 'mode'\n",
    "]\n",
    "\n",
    "target = 'c02_emission_kg'\n",
    "\n",
    "X = df[features]\n",
    "y = df[target]\n"
   ]
  },
  {
   "cell_type": "code",
   "execution_count": 20,
   "id": "80ac221c",
   "metadata": {},
   "outputs": [],
   "source": [
    "# Define preprocessing\n",
    "categorical = ['vehicle_type', 'fuel_type', 'traffic_condition', 'engine_norm_type', 'logistics_partner', 'mode']\n",
    "numerical = [col for col in X.columns if col not in categorical]\n",
    "\n",
    "preprocessor = ColumnTransformer([\n",
    "    (\"num\", StandardScaler(), numerical),\n",
    "    (\"cat\", OneHotEncoder(handle_unknown='ignore'), categorical)\n",
    "])\n",
    "\n",
    "pipeline = Pipeline([\n",
    "    (\"preprocessor\", preprocessor),\n",
    "    (\"model\", RandomForestRegressor(n_estimators=100, random_state=42))\n",
    "])\n"
   ]
  },
  {
   "cell_type": "code",
   "execution_count": 21,
   "id": "e4dfc085",
   "metadata": {},
   "outputs": [],
   "source": [
    "X_train, X_test, y_train, y_test = train_test_split(X, y, test_size=0.2, random_state=42)\n",
    "\n",
    "pipeline.fit(X_train, y_train)\n",
    "\n",
    "y_pred = pipeline.predict(X_test)\n"
   ]
  },
  {
   "cell_type": "code",
   "execution_count": 22,
   "id": "a46b7abb",
   "metadata": {},
   "outputs": [
    {
     "name": "stdout",
     "output_type": "stream",
     "text": [
      "MAE: 21.71\n",
      "RMSE: 74.34\n",
      "R² Score: 0.9424\n"
     ]
    }
   ],
   "source": [
    "# Evaluate\n",
    "mae = mean_absolute_error(y_test, y_pred)\n",
    "rmse = np.sqrt(mean_squared_error(y_test, y_pred))  # Fixed\n",
    "r2 = r2_score(y_test, y_pred)\n",
    "\n",
    "print(f\"MAE: {mae:.2f}\")\n",
    "print(f\"RMSE: {rmse:.2f}\")\n",
    "print(f\"R² Score: {r2:.4f}\")\n"
   ]
  }
 ],
 "metadata": {
  "kernelspec": {
   "display_name": "myenv",
   "language": "python",
   "name": "python3"
  },
  "language_info": {
   "codemirror_mode": {
    "name": "ipython",
    "version": 3
   },
   "file_extension": ".py",
   "mimetype": "text/x-python",
   "name": "python",
   "nbconvert_exporter": "python",
   "pygments_lexer": "ipython3",
   "version": "3.13.4"
  }
 },
 "nbformat": 4,
 "nbformat_minor": 5
}
