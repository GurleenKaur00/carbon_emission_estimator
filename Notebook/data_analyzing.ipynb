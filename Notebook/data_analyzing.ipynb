{
 "cells": [
  {
   "cell_type": "code",
   "execution_count": null,
   "id": "ab711c43",
   "metadata": {},
   "outputs": [],
   "source": [
    "import numpy as np\n",
    "import pandas as pd\n",
    "import seaborn as sns\n",
    "import matplotlib.pyplot as plt\n",
    "from scipy.stats import zscore"
   ]
  },
  {
   "cell_type": "code",
   "execution_count": null,
   "id": "08a63c2d",
   "metadata": {},
   "outputs": [],
   "source": [
    "#READING CLEANED EXCEL FILE\n",
    "df_cleaned = pd.read_csv(\"../dataset/carbon_emission_cleaned.csv\")"
   ]
  },
  {
   "cell_type": "markdown",
   "id": "3ec4d9be",
   "metadata": {},
   "source": [
    "DATASET OVERVIEW"
   ]
  },
  {
   "cell_type": "code",
   "execution_count": null,
   "id": "fbe12f74",
   "metadata": {},
   "outputs": [],
   "source": [
    "print(\"Dataset Overview\")\n",
    "print(f\"Total records: {df_cleaned.shape[0]}\")\n",
    "print(f\"Total features: {df_cleaned.shape[1]}\")\n",
    "print(\"\\nCategorical columns:\", list(df_cleaned.select_dtypes(include='category').columns))\n",
    "print(\"Numerical columns:\", list(df_cleaned.select_dtypes(include='number').columns))\n",
    "print(\"\\nMissing values:\\n\", df_cleaned.isnull().sum()[df_cleaned.isnull().sum() > 0])\n"
   ]
  },
  {
   "cell_type": "markdown",
   "id": "63aee129",
   "metadata": {},
   "source": [
    "MISSING VALUE HEATMAP"
   ]
  },
  {
   "cell_type": "code",
   "execution_count": null,
   "id": "34e1a5cf",
   "metadata": {},
   "outputs": [],
   "source": [
    "plt.figure(figsize=(12, 6))\n",
    "sns.heatmap(df_cleaned.isnull(), cbar=False, cmap=\"Reds\", yticklabels=False)\n",
    "plt.title(\"Missing Values - Before Handling\")\n",
    "plt.tight_layout()\n",
    "plt.show()\n"
   ]
  },
  {
   "cell_type": "code",
   "execution_count": null,
   "id": "d1d387c4",
   "metadata": {},
   "outputs": [],
   "source": [
    "#missing value count and percentage\n",
    "missing_count = df_cleaned.isnull().sum()\n",
    "missing_percent = (missing_count / len(df_cleaned)) * 100\n",
    "missing_df = pd.DataFrame({'Missing Count': missing_count, 'Missing %': missing_percent})\n",
    "print(\"Missing Value Overview:\\n\", missing_df[missing_df['Missing Count'] > 0].sort_values('Missing %', ascending=False))\n",
    "\n",
    "\n"
   ]
  },
  {
   "cell_type": "code",
   "execution_count": null,
   "id": "3ad769cb",
   "metadata": {},
   "outputs": [],
   "source": [
    "# For numerical columns: Fill with median (robust to outliers)\n",
    "num_cols = df_cleaned.select_dtypes(include=['float64', 'int64']).columns\n",
    "for col in num_cols:\n",
    "    if df_cleaned[col].isnull().sum() > 0:\n",
    "        median_val = df_cleaned[col].median()\n",
    "        df_cleaned[col].fillna(median_val, inplace=True)"
   ]
  },
  {
   "cell_type": "code",
   "execution_count": null,
   "id": "20aa2bc6",
   "metadata": {},
   "outputs": [],
   "source": [
    "#CATEGORICAL FEATURES\n",
    "categorical_cols = ['mode', 'logistics_partner', 'vehicle_type', 'fuel_type', 'traffic_condition','engine_norm_type']\n",
    "for col in categorical_cols:\n",
    "    df_cleaned[col] = df_cleaned[col].astype('category')"
   ]
  },
  {
   "cell_type": "code",
   "execution_count": null,
   "id": "63822011",
   "metadata": {},
   "outputs": [],
   "source": [
    "# For categorical columns: Fill with mode\n",
    "cat_cols = df_cleaned.select_dtypes(include='category').columns\n",
    "for col in cat_cols:\n",
    "    if df_cleaned[col].isnull().sum() > 0:\n",
    "        mode_val = df_cleaned[col].mode()[0]\n",
    "        df_cleaned[col].fillna(mode_val, inplace=True)"
   ]
  },
  {
   "cell_type": "code",
   "execution_count": null,
   "id": "9e256e83",
   "metadata": {},
   "outputs": [],
   "source": [
    "print(\"\\nRemaining missing values after handling:\")\n",
    "print(df_cleaned.isnull().sum()[df_cleaned.isnull().sum() > 0])"
   ]
  },
  {
   "cell_type": "code",
   "execution_count": null,
   "id": "42c668e7",
   "metadata": {},
   "outputs": [],
   "source": [
    "plt.figure(figsize=(12, 6))\n",
    "sns.heatmap(df_cleaned.isnull(), cbar=False, cmap=\"Greens\", yticklabels=False)\n",
    "plt.title(\"Missing Values - After Handling\")\n",
    "plt.tight_layout()\n",
    "plt.show()\n"
   ]
  },
  {
   "cell_type": "code",
   "execution_count": null,
   "id": "04350475",
   "metadata": {},
   "outputs": [],
   "source": [
    "# OVERALL DESCRIBING DATA\n",
    "print(\"Shape of dataset:\", df_cleaned.shape)\n",
    "print(\"Data types:\\n\", df_cleaned.dtypes)"
   ]
  },
  {
   "cell_type": "markdown",
   "id": "338a20aa",
   "metadata": {},
   "source": [
    "VISUALIZING DATA"
   ]
  },
  {
   "cell_type": "code",
   "execution_count": null,
   "id": "77e395b5",
   "metadata": {},
   "outputs": [],
   "source": [
    "df_cleaned['fuel_type'].value_counts().plot.pie(autopct='%1.1f%%', figsize=(6,6), title='Fuel Type Distribution')\n",
    "plt.ylabel(\"\")\n",
    "plt.tight_layout()\n",
    "plt.show()\n"
   ]
  },
  {
   "cell_type": "code",
   "execution_count": null,
   "id": "f53c2f18",
   "metadata": {},
   "outputs": [],
   "source": [
    "plt.figure(figsize=(8, 5))\n",
    "sns.countplot(data=df_cleaned, x='vehicle_type', order=df_cleaned['vehicle_type'].value_counts().index, palette='Set3')\n",
    "plt.title(\"Vehicle Type Distribution\")\n",
    "plt.xticks(rotation=45)\n",
    "plt.tight_layout()\n",
    "plt.show()\n"
   ]
  },
  {
   "cell_type": "code",
   "execution_count": null,
   "id": "4f64bcd3",
   "metadata": {},
   "outputs": [],
   "source": [
    "plt.figure(figsize=(6, 6))\n",
    "df_cleaned['mode'].value_counts().plot.pie(autopct='%1.1f%%', startangle=140, colors=sns.color_palette('pastel'))\n",
    "plt.title(\"Transport Mode Distribution\")\n",
    "plt.ylabel(\"\")\n",
    "plt.tight_layout()\n",
    "plt.show()\n"
   ]
  },
  {
   "cell_type": "code",
   "execution_count": null,
   "id": "603d4487",
   "metadata": {},
   "outputs": [],
   "source": [
    "plt.figure(figsize=(8, 5))\n",
    "sns.countplot(data=df_cleaned, x='logistics_partner', order=df_cleaned['logistics_partner'].value_counts().index, palette='coolwarm')\n",
    "plt.title(\"Logistics Partner Count\")\n",
    "plt.xticks(rotation=45)\n",
    "plt.tight_layout()\n",
    "plt.show()\n"
   ]
  },
  {
   "cell_type": "code",
   "execution_count": null,
   "id": "cac64028",
   "metadata": {},
   "outputs": [],
   "source": [
    "plt.figure(figsize=(6, 4))\n",
    "sns.countplot(data=df_cleaned, x='traffic_condition', order=df_cleaned['traffic_condition'].value_counts().index, palette='Set2')\n",
    "plt.title(\"Traffic Condition Distribution\")\n",
    "plt.tight_layout()\n",
    "plt.show()\n"
   ]
  },
  {
   "cell_type": "code",
   "execution_count": null,
   "id": "0837952e",
   "metadata": {},
   "outputs": [],
   "source": [
    "if 'engine_norm_type' in df_cleaned.columns:\n",
    "    plt.figure(figsize=(6, 4))\n",
    "    sns.countplot(data=df_cleaned, x='engine_norm_type', order=df_cleaned['engine_norm_type'].value_counts().index, palette='cubehelix')\n",
    "    plt.title(\"Engine Norm Type Distribution\")\n",
    "    plt.tight_layout()\n",
    "    plt.show()\n"
   ]
  },
  {
   "cell_type": "markdown",
   "id": "a3029c8b",
   "metadata": {},
   "source": [
    "UNIVARIATE ANALYSIS"
   ]
  },
  {
   "cell_type": "code",
   "execution_count": null,
   "id": "7d4827b4",
   "metadata": {},
   "outputs": [],
   "source": [
    "#CATEGORICAL FEATURES\n",
    "categorical_cols = ['mode', 'logistics_partner', 'vehicle_type', 'fuel_type', 'traffic_condition']\n",
    "for col in categorical_cols:\n",
    "    df_cleaned[col] = df_cleaned[col].astype('category')"
   ]
  },
  {
   "cell_type": "code",
   "execution_count": null,
   "id": "411af689",
   "metadata": {},
   "outputs": [],
   "source": [
    "#PRINTING NUMERICAL AND CATEGORICAL DATA\n",
    "print(\"\\nNumerical Summary:\\n\", df_cleaned.describe())\n",
    "print(\"\\nCategorical Summary:\\n\", df_cleaned.describe(include='category'))"
   ]
  },
  {
   "cell_type": "code",
   "execution_count": null,
   "id": "1037a625",
   "metadata": {},
   "outputs": [],
   "source": [
    "#COUNTING CATEGORICAL DATA\n",
    "for col in df_cleaned.select_dtypes(include='category').columns:\n",
    "    print(f\"\\nValue counts for {col}:\\n{df_cleaned[col].value_counts()}\")"
   ]
  },
  {
   "cell_type": "code",
   "execution_count": null,
   "id": "a74ba382",
   "metadata": {},
   "outputs": [],
   "source": [
    "# Histogram for numerical columns\n",
    "numeric_cols = df_cleaned.select_dtypes(include=['float64', 'int64']).columns\n",
    "\n",
    "for col in numeric_cols:\n",
    "    plt.figure(figsize=(8, 4))\n",
    "    sns.histplot(data=df_cleaned, x=col, kde=True, bins=30)\n",
    "    plt.title(f'Distribution of {col}')\n",
    "    plt.xlabel(col)\n",
    "    plt.ylabel('Count')\n",
    "    plt.tight_layout()\n",
    "    plt.show()\n"
   ]
  },
  {
   "cell_type": "code",
   "execution_count": null,
   "id": "2cf5ff42",
   "metadata": {},
   "outputs": [],
   "source": [
    "#COUNTPLOT FOR CATEGORICAL COLUMNS\n",
    "for col in categorical_cols:\n",
    "    plt.figure(figsize=(10, 4))\n",
    "    sns.countplot(data=df_cleaned, x=col, order=df_cleaned[col].value_counts().index)\n",
    "    plt.title(f'Count Plot of {col}')\n",
    "    plt.xticks(rotation=45)\n",
    "    plt.tight_layout()\n",
    "    plt.show()\n"
   ]
  },
  {
   "cell_type": "code",
   "execution_count": null,
   "id": "c19db9a5",
   "metadata": {},
   "outputs": [],
   "source": [
    "plt.figure(figsize=(10, 8))\n",
    "sns.heatmap(df_cleaned.select_dtypes(include='number').corr(), annot=True, fmt='.2f', cmap='RdBu_r')\n",
    "plt.title(\"Correlation Heatmap - All Numerical Features\")\n",
    "plt.tight_layout()\n",
    "plt.show()\n"
   ]
  },
  {
   "cell_type": "markdown",
   "id": "8c10293b",
   "metadata": {},
   "source": [
    "BIVARIATE ANALYSIS"
   ]
  },
  {
   "cell_type": "markdown",
   "id": "31485af7",
   "metadata": {},
   "source": [
    "NUMERICAL VS NUMERICAL"
   ]
  },
  {
   "cell_type": "code",
   "execution_count": null,
   "id": "c7d904b8",
   "metadata": {},
   "outputs": [],
   "source": [
    "#RELATIONSHIP BETWEEN DISTANCE AND CO2\n",
    "sns.scatterplot(data=df_cleaned, x='distance_in_km_per_route', y='c02_emission_kg')\n",
    "plt.title(\"Distance vs CO2 Emission\")\n",
    "plt.tight_layout()\n",
    "plt.show()\n"
   ]
  },
  {
   "cell_type": "code",
   "execution_count": null,
   "id": "ffac6d7f",
   "metadata": {},
   "outputs": [],
   "source": [
    "#REALTIONSHIP BETWEEN DISTANCE AND FUEL\n",
    "sns.scatterplot(data=df_cleaned, x='distance_in_km_per_route', y='fuel_consumption_in_litre')\n",
    "plt.title(\"Distance vs Fuel Consumption\")\n",
    "plt.tight_layout()\n",
    "plt.show()\n"
   ]
  },
  {
   "cell_type": "code",
   "execution_count": null,
   "id": "9b3db210",
   "metadata": {},
   "outputs": [],
   "source": [
    "#RELATIONSHIP BETWEEN FUEL AND CO2\n",
    "sns.lmplot(data=df_cleaned, x='fuel_consumption_in_litre', y='c02_emission_kg', aspect=2, height=5)\n",
    "plt.title(\"Fuel Consumption vs CO₂ Emission\")\n",
    "plt.tight_layout()\n",
    "plt.show()\n"
   ]
  },
  {
   "cell_type": "code",
   "execution_count": null,
   "id": "f762a7a1",
   "metadata": {},
   "outputs": [],
   "source": [
    "#RELATIONSHIP BETWEEN VEHICLE AGE AND CO2\n",
    "sns.scatterplot(data=df_cleaned, x='vehicle_age_in_years', y='c02_emission_kg')\n",
    "plt.title(\"Vehicle Age vs CO₂ Emission\")\n",
    "plt.tight_layout()\n",
    "plt.show()\n"
   ]
  },
  {
   "cell_type": "code",
   "execution_count": null,
   "id": "34e15eb3",
   "metadata": {},
   "outputs": [],
   "source": [
    "#RELATIONSHIP BETWEEN FUEL EFFICIENCY AND SPEED\n",
    "sns.scatterplot(data=df_cleaned, x='average_speed_in_km_per_hr', y='adjusted_fuel_efficiency_in_km_litre')\n",
    "plt.title(\"Speed vs Fuel Efficiency\")\n",
    "plt.tight_layout()\n",
    "plt.show()\n"
   ]
  },
  {
   "cell_type": "code",
   "execution_count": null,
   "id": "c8a6cf31",
   "metadata": {},
   "outputs": [],
   "source": [
    "#RELATIONSHIP BETWEEN LOAD FACTOR AND FUEL CONSUMPTION\n",
    "sns.scatterplot(data=df_cleaned, x='load_factor', y='fuel_consumption_in_litre')\n",
    "plt.title(\"Load Factor vs Fuel Consumption\")\n",
    "plt.tight_layout()\n",
    "plt.show()\n"
   ]
  },
  {
   "cell_type": "code",
   "execution_count": null,
   "id": "45f73055",
   "metadata": {},
   "outputs": [],
   "source": [
    "sns.pairplot(df_cleaned[[\n",
    "    'distance_in_km_per_route',\n",
    "    'fuel_consumption_in_litre',\n",
    "    'c02_emission_kg',\n",
    "    'load_factor',\n",
    "    'vehicle_age_in_years'\n",
    "]])\n",
    "plt.show()\n"
   ]
  },
  {
   "cell_type": "markdown",
   "id": "63929da8",
   "metadata": {},
   "source": [
    "CATEGORICAL VS CATEGORICAL"
   ]
  },
  {
   "cell_type": "code",
   "execution_count": null,
   "id": "eca36640",
   "metadata": {},
   "outputs": [],
   "source": [
    "cross_tab = pd.crosstab(df_cleaned['vehicle_type'], df_cleaned['fuel_type'])\n",
    "print(\"\\nCross-tabulation of Vehicle Type vs Fuel Type:\\n\")\n",
    "print(cross_tab)\n",
    "\n",
    "#Heatmap for visualizing cross-tab result\n",
    "plt.figure(figsize=(8, 6))\n",
    "sns.heatmap(cross_tab, annot=True, fmt=\"d\", cmap=\"YlGnBu\")\n",
    "plt.title(\"Vehicle Type vs Fuel Type\")\n",
    "plt.xlabel(\"Fuel Type\")\n",
    "plt.ylabel(\"Vehicle Type\")\n",
    "plt.tight_layout()\n",
    "plt.show()"
   ]
  },
  {
   "cell_type": "code",
   "execution_count": null,
   "id": "59f95a29",
   "metadata": {},
   "outputs": [],
   "source": [
    "cross_tab = pd.crosstab(df_cleaned['fuel_type'], df_cleaned['mode'])\n",
    "print(\"\\nCross-tabulation of Fuel Type vs Mode:\\n\")\n",
    "print(cross_tab)\n",
    "\n",
    "#Heatmap for visualizing cross-tab result\n",
    "plt.figure(figsize=(8, 6))\n",
    "sns.heatmap(cross_tab, annot=True, fmt=\"d\", cmap=\"YlGnBu\")\n",
    "plt.title(\"Fuel Type vs Mode\")\n",
    "plt.xlabel(\"Fuel Type\")\n",
    "plt.ylabel(\"Mode\")\n",
    "plt.tight_layout()\n",
    "plt.show()"
   ]
  },
  {
   "cell_type": "code",
   "execution_count": null,
   "id": "3771819d",
   "metadata": {},
   "outputs": [],
   "source": [
    "cross_tab = pd.crosstab(df_cleaned['logistics_partner'], df_cleaned['mode'])\n",
    "print(\"\\nCross-tabulation of Logistics Partner vs Mode:\\n\")\n",
    "print(cross_tab)\n",
    "\n",
    "#Heatmap for visualizing cross-tab result\n",
    "plt.figure(figsize=(8, 6))\n",
    "sns.heatmap(cross_tab, annot=True, fmt=\"d\", cmap=\"YlGnBu\")\n",
    "plt.title(\"Logistics Partner vs Mode\")\n",
    "plt.xlabel(\"Logistics Partner\")\n",
    "plt.ylabel(\"Mode\")\n",
    "plt.tight_layout()\n",
    "plt.show()"
   ]
  },
  {
   "cell_type": "markdown",
   "id": "790dbc79",
   "metadata": {},
   "source": [
    "NUMERICAL VS CATEGORICAL"
   ]
  },
  {
   "cell_type": "code",
   "execution_count": null,
   "id": "21dbb6dc",
   "metadata": {},
   "outputs": [],
   "source": [
    "categorical_cols = ['mode', 'logistics_partner', 'vehicle_type', 'fuel_type', 'traffic_condition']\n",
    "numerical_cols = ['distance_in_km_per_route', 'fuel_consumption_in_litre', \n",
    "                  'c02_emission_kg', 'load_factor', 'vehicle_age_in_years']\n",
    "for col in categorical_cols:\n",
    "    df_cleaned[col] = df_cleaned[col].astype('category')"
   ]
  },
  {
   "cell_type": "code",
   "execution_count": null,
   "id": "631c26d7",
   "metadata": {},
   "outputs": [],
   "source": [
    "#Box Plot: For each numerical vs categorical\n",
    "for cat_col in categorical_cols:\n",
    "    for num_col in numerical_cols:\n",
    "        plt.figure(figsize=(10, 5))\n",
    "        sns.boxplot(x=cat_col, y=num_col, data=df_cleaned)\n",
    "        plt.title(f'{num_col} by {cat_col}')\n",
    "        plt.xticks(rotation=45)\n",
    "        plt.tight_layout()\n",
    "        plt.show()"
   ]
  },
  {
   "cell_type": "code",
   "execution_count": null,
   "id": "6f2644f9",
   "metadata": {},
   "outputs": [],
   "source": [
    "#Violin Plots\n",
    "for cat_col in categorical_cols:\n",
    "    for num_col in numerical_cols:\n",
    "        plt.figure(figsize=(10, 5))\n",
    "        sns.violinplot(x=cat_col, y=num_col, data=df_cleaned)\n",
    "        plt.title(f'{num_col} distribution by {cat_col}')\n",
    "        plt.xticks(rotation=45)\n",
    "        plt.tight_layout()\n",
    "        plt.show()"
   ]
  },
  {
   "cell_type": "code",
   "execution_count": null,
   "id": "f75d6422",
   "metadata": {},
   "outputs": [],
   "source": [
    "#Bar Plots (Mean value comparisons)\n",
    "for cat_col in categorical_cols:\n",
    "    for num_col in numerical_cols:\n",
    "        plt.figure(figsize=(10, 5))\n",
    "        sns.barplot(x=cat_col, y=num_col, data=df_cleaned, estimator='mean')\n",
    "        plt.title(f'Mean {num_col} by {cat_col}')\n",
    "        plt.xticks(rotation=45)\n",
    "        plt.tight_layout()\n",
    "        plt.show()"
   ]
  },
  {
   "cell_type": "markdown",
   "id": "ab28af06",
   "metadata": {},
   "source": [
    "DETECTING OUTLIERS"
   ]
  },
  {
   "cell_type": "code",
   "execution_count": null,
   "id": "007f2d50",
   "metadata": {},
   "outputs": [],
   "source": [
    "numeric_cols = df_cleaned.select_dtypes(include='number').columns\n",
    "for col in numeric_cols:\n",
    "    plt.figure(figsize=(8, 4))\n",
    "    sns.boxplot(x=df_cleaned[col])\n",
    "    plt.title(f'Boxplot of {col}')\n",
    "    plt.xlabel(col)\n",
    "    plt.tight_layout()\n",
    "    plt.show()"
   ]
  },
  {
   "cell_type": "code",
   "execution_count": null,
   "id": "cef22ac5",
   "metadata": {},
   "outputs": [],
   "source": [
    "numeric_df = df_cleaned.select_dtypes(include='number')\n",
    "z_scores = np.abs(zscore(numeric_df, nan_policy='omit'))\n",
    "threshold = 3\n",
    "outlier_mask = (z_scores > threshold)\n",
    "outlier_counts = outlier_mask.sum(axis=0)\n",
    "\n",
    "print(\" Outlier count per column using Z-score method:\")\n",
    "print(outlier_counts)\n"
   ]
  },
  {
   "cell_type": "markdown",
   "id": "8248d6a0",
   "metadata": {},
   "source": [
    "FEATURE ENGINEERING"
   ]
  },
  {
   "cell_type": "code",
   "execution_count": null,
   "id": "545ec785",
   "metadata": {},
   "outputs": [],
   "source": [
    "df_cleaned['load_utilization'] = df_cleaned['load_capacity_in_kg'] / df_cleaned['vehicle_capacity_in_kg']\n",
    "df_cleaned['load_utilization'] = df_cleaned['load_utilization'].clip(upper=1.0)  # Load cannot exceed 100%\n",
    "\n",
    "# Fuel consumption per km\n",
    "df_cleaned['fuel_per_km'] = df_cleaned['fuel_consumption_in_litre'] / df_cleaned['distance_in_km_per_route']\n",
    "df_cleaned['fuel_per_km'] = df_cleaned['fuel_per_km'].replace([np.inf, -np.inf], np.nan)\n",
    "\n",
    "# CO2 emission per km\n",
    "df_cleaned['co2_per_km'] = df_cleaned['c02_emission_kg'] / df_cleaned['distance_in_km_per_route']\n",
    "df_cleaned['co2_per_km'] = df_cleaned['co2_per_km'].replace([np.inf, -np.inf], np.nan)\n",
    "\n",
    "# CO2 emission per litre of fuel (for non-electric only)\n",
    "df_cleaned['co2_per_litre'] = df_cleaned['c02_emission_kg'] / df_cleaned['fuel_consumption_in_litre']\n",
    "df_cleaned['co2_per_litre'] = df_cleaned['co2_per_litre'].replace([np.inf, -np.inf], np.nan)\n",
    "\n",
    "# Speed per stop — might indicate operational efficiency\n",
    "df_cleaned['speed_per_stop'] = df_cleaned['average_speed_in_km_per_hr'] / df_cleaned['no_of_stop']\n",
    "df_cleaned['speed_per_stop'] = df_cleaned['speed_per_stop'].replace([np.inf, -np.inf], np.nan)\n",
    "\n",
    "print(\"\\nFeature engineering complete. New columns added:\")\n",
    "print(['load_utilization', 'fuel_per_km', 'co2_per_km', 'co2_per_litre', 'speed_per_stop'])\n",
    "df_cleaned[['load_utilization', 'fuel_per_km', 'co2_per_km', 'co2_per_litre', 'speed_per_stop']].describe()\n"
   ]
  },
  {
   "cell_type": "code",
   "execution_count": null,
   "id": "f4b25371",
   "metadata": {},
   "outputs": [],
   "source": [
    "engineered_features = ['load_utilization', 'fuel_per_km', 'co2_per_km', 'co2_per_litre', 'speed_per_stop']\n",
    "\n",
    "for feature in engineered_features:\n",
    "    plt.figure(figsize=(10, 4))\n",
    "    sns.histplot(df_cleaned[feature], bins=30, kde=True)\n",
    "    plt.title(f'Distribution of {feature}')\n",
    "    plt.show()\n"
   ]
  },
  {
   "cell_type": "code",
   "execution_count": null,
   "id": "968ae33d",
   "metadata": {},
   "outputs": [],
   "source": [
    "missing_engineered = df_cleaned[engineered_features].isnull().sum()\n",
    "print(\"Missing Values in Engineered Features:\\n\", missing_engineered[missing_engineered > 0])\n"
   ]
  },
  {
   "cell_type": "code",
   "execution_count": null,
   "id": "5fdf1c88",
   "metadata": {},
   "outputs": [],
   "source": [
    "# load utilization by vehicle type\n",
    "plt.figure(figsize=(12, 6))\n",
    "sns.boxplot(data=df_cleaned, x='vehicle_type', y='load_utilization')\n",
    "plt.xticks(rotation=45)\n",
    "plt.title(\"Load Utilization by Vehicle Type\")\n",
    "plt.show()\n"
   ]
  },
  {
   "cell_type": "code",
   "execution_count": null,
   "id": "fe8c7357",
   "metadata": {},
   "outputs": [],
   "source": [
    "plt.figure(figsize=(12, 6))\n",
    "sns.boxplot(data=df_cleaned, x='fuel_type', y='co2_per_litre')\n",
    "plt.xticks(rotation=45)\n",
    "plt.title(\"CO2 per Litre by Fuel Type\")\n",
    "plt.show()\n"
   ]
  },
  {
   "cell_type": "code",
   "execution_count": null,
   "id": "3d2cbaab",
   "metadata": {},
   "outputs": [],
   "source": [
    "plt.figure(figsize=(12, 6))\n",
    "sns.boxplot(data=df_cleaned, x='engine_norm_type', y='co2_per_litre')\n",
    "plt.xticks(rotation=45)\n",
    "plt.title(\"CO2 per Litre by Engine Norm Type\")\n",
    "plt.show()\n"
   ]
  },
  {
   "cell_type": "code",
   "execution_count": null,
   "id": "c92ef92f",
   "metadata": {},
   "outputs": [],
   "source": [
    "plt.figure(figsize=(12, 6))\n",
    "sns.boxplot(data=df_cleaned, x='vehicle_type', y='co2_per_km')\n",
    "plt.xticks(rotation=45)\n",
    "plt.title(\"CO2 per km by Vehicle Type\")\n",
    "plt.show()\n"
   ]
  },
  {
   "cell_type": "code",
   "execution_count": null,
   "id": "871998f0",
   "metadata": {},
   "outputs": [],
   "source": [
    "plt.figure(figsize=(12, 6))\n",
    "sns.boxplot(data=df_cleaned, x='traffic_condition', y='co2_per_km')\n",
    "plt.xticks(rotation=45)\n",
    "plt.title(\"CO2 per km by traffic_condition Type\")\n",
    "plt.show()\n"
   ]
  },
  {
   "cell_type": "code",
   "execution_count": null,
   "id": "9875896e",
   "metadata": {},
   "outputs": [],
   "source": [
    "sns.scatterplot(data=df_cleaned, x='fuel_per_km', y='co2_per_km')\n",
    "plt.title(\"CO2 vs Fuel Consumption per km\")\n",
    "plt.show()\n"
   ]
  },
  {
   "cell_type": "code",
   "execution_count": null,
   "id": "b2c0154d",
   "metadata": {},
   "outputs": [],
   "source": [
    "sns.scatterplot(data=df_cleaned, x='speed_per_stop', y='co2_per_km')\n",
    "plt.title(\"CO2 vs Speed per stop\")\n",
    "plt.show()\n"
   ]
  },
  {
   "cell_type": "code",
   "execution_count": null,
   "id": "70ea3c14",
   "metadata": {},
   "outputs": [],
   "source": [
    "df_cleaned.groupby('fuel_type')[['fuel_per_km', 'co2_per_km', 'co2_per_litre']].mean().sort_values(by='fuel_per_km')\n"
   ]
  },
  {
   "cell_type": "code",
   "execution_count": null,
   "id": "47f6217e",
   "metadata": {},
   "outputs": [],
   "source": [
    "df_summary = df_cleaned.groupby('fuel_type')[['fuel_per_km', 'co2_per_km', 'co2_per_litre']].mean()\n",
    "\n",
    "df_summary.plot(kind='bar', figsize=(10,6))\n",
    "plt.title(\"Fuel Efficiency & Emissions by Fuel Type\")\n",
    "plt.ylabel(\"Values\")\n",
    "plt.xticks(rotation=45)\n",
    "plt.grid(True)\n",
    "plt.tight_layout()\n",
    "plt.show()\n"
   ]
  },
  {
   "cell_type": "code",
   "execution_count": null,
   "id": "65054bdb",
   "metadata": {},
   "outputs": [],
   "source": [
    "corr = df_cleaned[['fuel_per_km', 'co2_per_km', 'co2_per_litre', 'load_utilization', 'speed_per_stop']].corr()\n",
    "\n",
    "sns.heatmap(corr, annot=True, cmap='coolwarm')\n",
    "plt.title(\"Correlation Matrix of Engineered Features\")\n",
    "plt.show()\n"
   ]
  },
  {
   "cell_type": "code",
   "execution_count": null,
   "id": "f612e3ba",
   "metadata": {},
   "outputs": [],
   "source": [
    "df_cleaned.groupby('vehicle_type')[['fuel_per_km', 'co2_per_km']].mean().sort_values('fuel_per_km')\n"
   ]
  },
  {
   "cell_type": "code",
   "execution_count": null,
   "id": "b15df08b",
   "metadata": {},
   "outputs": [],
   "source": [
    "df_vehicle = df_cleaned.groupby('vehicle_type')[['fuel_per_km', 'co2_per_km']].mean().sort_values('fuel_per_km')\n",
    "\n",
    "df_vehicle.plot(kind='bar', figsize=(10,6), color=['skyblue', 'salmon'])\n",
    "plt.title(\"Fuel & CO2 Efficiency by Vehicle Type\")\n",
    "plt.ylabel(\"Average Value per km\")\n",
    "plt.xticks(rotation=45)\n",
    "plt.grid(True)\n",
    "plt.tight_layout()\n",
    "plt.show()\n"
   ]
  },
  {
   "cell_type": "code",
   "execution_count": null,
   "id": "a1e08d5e",
   "metadata": {},
   "outputs": [],
   "source": [
    "sns.jointplot(data=df_cleaned, x='fuel_per_km', y='co2_per_km', kind='hex', cmap='coolwarm')\n",
    "plt.suptitle(\"Joint Distribution: Fuel per km vs CO2 per km\", y=1.02)\n",
    "plt.show()\n"
   ]
  },
  {
   "cell_type": "code",
   "execution_count": null,
   "id": "88a25ae1",
   "metadata": {},
   "outputs": [],
   "source": [
    "sns.lmplot(data=df_cleaned, x='fuel_per_km', y='co2_per_km', aspect=2)\n",
    "plt.title(\"Fuel per km vs CO₂ per km (with Trend Line)\")\n",
    "plt.tight_layout()\n",
    "plt.show()\n"
   ]
  },
  {
   "cell_type": "markdown",
   "id": "321640b2",
   "metadata": {},
   "source": [
    "MULTIVARIATE ANALYSIS"
   ]
  },
  {
   "cell_type": "code",
   "execution_count": null,
   "id": "4de32c8b",
   "metadata": {},
   "outputs": [],
   "source": [
    "sns.pairplot(df_cleaned[[\n",
    "    'fuel_per_km', 'co2_per_km', 'co2_per_litre', 'speed_per_stop', 'load_utilization', 'fuel_type'\n",
    "]], hue='fuel_type', palette='Set2')\n",
    "plt.suptitle(\"Pairplot Colored by Fuel Type\", y=1.02)\n",
    "plt.show()\n"
   ]
  },
  {
   "cell_type": "markdown",
   "id": "15f5c7d1",
   "metadata": {},
   "source": [
    "COMPARISON ORIGINAL VS ENGINEERED FEATURES"
   ]
  },
  {
   "cell_type": "code",
   "execution_count": null,
   "id": "5942cf47",
   "metadata": {},
   "outputs": [],
   "source": [
    "fuel_compare = df_cleaned.groupby('vehicle_type')[\n",
    "    ['fuel_consumption_in_litre', 'fuel_per_km']\n",
    "].mean().sort_values('fuel_per_km')\n",
    "ax = fuel_compare['fuel_consumption_in_litre'].plot(kind='bar', figsize=(10,6), color='skyblue', position=0, width=0.4, label='Fuel Consumption (L)')\n",
    "fuel_compare['fuel_per_km'].plot(kind='bar', ax=ax, color='salmon', position=1, width=0.4, secondary_y=True, label='Fuel per Km')\n",
    "\n",
    "ax.set_title(\"Original Fuel Consumption vs Fuel per Km by Vehicle Type\")\n",
    "ax.set_ylabel(\"Fuel Consumption (L)\")\n",
    "ax.right_ax.set_ylabel(\"Fuel per Km\")\n",
    "ax.set_xticklabels(fuel_compare.index, rotation=45)\n",
    "ax.legend(loc='upper left')\n",
    "ax.right_ax.legend(loc='upper right')\n",
    "plt.tight_layout()\n",
    "plt.show()\n"
   ]
  },
  {
   "cell_type": "code",
   "execution_count": null,
   "id": "ddbe6e94",
   "metadata": {},
   "outputs": [],
   "source": [
    "co2_compare = df_cleaned.groupby('vehicle_type')[\n",
    "    ['c02_emission_kg', 'co2_per_km']\n",
    "].mean().sort_values('co2_per_km')\n",
    "ax = co2_compare['c02_emission_kg'].plot(kind='bar', figsize=(10,6), color='teal', position=0, width=0.4, label='CO₂ Emission (kg)')\n",
    "co2_compare['co2_per_km'].plot(kind='bar', ax=ax, color='coral', position=1, width=0.4, secondary_y=True, label='CO₂ per Km')\n",
    "\n",
    "ax.set_title(\"Original CO₂ Emission vs CO₂ per Km by Vehicle Type\")\n",
    "ax.set_ylabel(\"CO₂ Emission (kg)\")\n",
    "ax.right_ax.set_ylabel(\"CO₂ per Km\")\n",
    "ax.set_xticklabels(co2_compare.index, rotation=45)\n",
    "ax.legend(loc='upper left')\n",
    "ax.right_ax.legend(loc='upper right')\n",
    "\n",
    "plt.tight_layout()\n",
    "plt.show()\n"
   ]
  },
  {
   "cell_type": "markdown",
   "id": "c1088ac5",
   "metadata": {},
   "source": [
    "SUMMARIZING TOP 5 BOTTOM 5"
   ]
  },
  {
   "cell_type": "code",
   "execution_count": null,
   "id": "a6a58083",
   "metadata": {},
   "outputs": [],
   "source": [
    "print(\"Top 5 Efficient Vehicles (fuel_per_km):\")\n",
    "print(df_cleaned.sort_values('fuel_per_km').head(5)[['vehicle_type', 'fuel_type', 'fuel_per_km']])\n",
    "\n",
    "print(\"\\nLeast Efficient Vehicles (fuel_per_km):\")\n",
    "print(df_cleaned.sort_values('fuel_per_km', ascending=False).head(5)[['vehicle_type', 'fuel_type', 'fuel_per_km']])\n"
   ]
  },
  {
   "cell_type": "code",
   "execution_count": null,
   "id": "b35ce406",
   "metadata": {},
   "outputs": [],
   "source": [
    "print(\"Top 5 Efficient Vehicles (co2_per_km):\")\n",
    "print(df_cleaned.sort_values('co2_per_km').head(5)[['vehicle_type', 'fuel_type', 'co2_per_km']])\n",
    "\n",
    "print(\"\\nLeast Efficient Vehicles (co2_per_km):\")\n",
    "print(df_cleaned.sort_values('co2_per_km', ascending=False).head(5)[['vehicle_type', 'fuel_type', 'co2_per_km']])\n"
   ]
  },
  {
   "cell_type": "code",
   "execution_count": null,
   "id": "121ab3e6",
   "metadata": {},
   "outputs": [],
   "source": [
    "for cat_col in categorical_cols:\n",
    "    grouped = df_cleaned.groupby(cat_col)[engineered_features].mean()\n",
    "    plt.figure(figsize=(10, 5))\n",
    "    sns.heatmap(grouped, annot=True, cmap=\"YlGnBu\")\n",
    "    plt.title(f\"Mean Engineered Features by {cat_col}\")\n",
    "    plt.tight_layout()\n",
    "    plt.show()\n"
   ]
  },
  {
   "cell_type": "code",
   "execution_count": null,
   "id": "a5d61869",
   "metadata": {},
   "outputs": [],
   "source": [
    "# Top 5\n",
    "top5 = df_cleaned[['vehicle_type', 'fuel_type', 'co2_per_km']].sort_values('co2_per_km').head(5)\n",
    "top5.plot(kind='bar', x='vehicle_type', y='co2_per_km', color='green', title='Top 5 Efficient Vehicles (CO₂ per Km)')\n",
    "plt.ylabel(\"CO₂ per Km\")\n",
    "plt.tight_layout()\n",
    "plt.show()\n",
    "\n",
    "# Bottom 5\n",
    "bottom5 = df_cleaned[['vehicle_type', 'fuel_type', 'co2_per_km']].sort_values('co2_per_km', ascending=False).head(5)\n",
    "bottom5.plot(kind='bar', x='vehicle_type', y='co2_per_km', color='red', title='Bottom 5 Least Efficient Vehicles (CO₂ per Km)')\n",
    "plt.ylabel(\"CO₂ per Km\")\n",
    "plt.tight_layout()\n",
    "plt.show()\n"
   ]
  },
  {
   "cell_type": "code",
   "execution_count": null,
   "id": "ebc27efc",
   "metadata": {},
   "outputs": [],
   "source": [
    "sns.boxplot(data=df_cleaned, x='engine_norm_type', y='co2_per_km')\n",
    "plt.title(\"CO₂ per Km by Engine Norm Type\")\n",
    "plt.xticks(rotation=45)\n",
    "plt.tight_layout()\n",
    "plt.show()\n"
   ]
  },
  {
   "cell_type": "code",
   "execution_count": null,
   "id": "3759e70b",
   "metadata": {},
   "outputs": [],
   "source": [
    "df_cleaned['high_emitter'] = df_cleaned['co2_per_km'] > 1.0\n",
    "print(df_cleaned['high_emitter'].value_counts())\n"
   ]
  },
  {
   "cell_type": "code",
   "execution_count": null,
   "id": "1aa948e3",
   "metadata": {},
   "outputs": [],
   "source": [
    "df_cleaned[df_cleaned['high_emitter']].groupby('vehicle_type').size().sort_values(ascending=False).plot(kind='bar', figsize=(10,5), color='crimson')\n",
    "plt.title(\"Count of High Emitters by Vehicle Type\")\n",
    "plt.ylabel(\"Number of High Emitters\")\n",
    "plt.xticks(rotation=45)\n",
    "plt.tight_layout()\n",
    "plt.show()\n"
   ]
  },
  {
   "cell_type": "code",
   "execution_count": null,
   "id": "3b50d8f3",
   "metadata": {},
   "outputs": [],
   "source": [
    "df_cleaned['efficiency_score'] = (1 / df_cleaned['fuel_per_km']) + (1 / df_cleaned['co2_per_km'])\n",
    "df_cleaned['efficiency_score'] = df_cleaned['efficiency_score'].replace([np.inf, -np.inf], np.nan)\n",
    "\n",
    "# View top 10 efficient vehicles\n",
    "top_eff = df_cleaned[['vehicle_type', 'fuel_type', 'efficiency_score']].dropna().sort_values('efficiency_score', ascending=False).head(10)\n",
    "print(top_eff)\n"
   ]
  },
  {
   "cell_type": "code",
   "execution_count": null,
   "id": "02eb000a",
   "metadata": {},
   "outputs": [],
   "source": [
    "df_cleaned['low_efficiency'] = df_cleaned['fuel_per_km'] > df_cleaned['fuel_per_km'].quantile(0.75)\n",
    "\n",
    "print(df_cleaned['low_efficiency'].value_counts())\n",
    "\n",
    "# Visualize\n",
    "df_cleaned[df_cleaned['low_efficiency']].groupby('vehicle_type').size().sort_values(ascending=False).plot(kind='bar', figsize=(10,5), color='orange')\n",
    "plt.title(\"Count of Low Fuel-Efficient Vehicles by Type\")\n",
    "plt.ylabel(\"Number of Low Efficiency Vehicles\")\n",
    "plt.xticks(rotation=45)\n",
    "plt.tight_layout()\n",
    "plt.show()\n"
   ]
  },
  {
   "cell_type": "code",
   "execution_count": null,
   "id": "14535269",
   "metadata": {},
   "outputs": [],
   "source": [
    "df_cleaned['co2_tier'] = pd.qcut(df_cleaned['co2_per_km'], q=3, labels=['Low', 'Medium', 'High'])\n",
    "sns.countplot(data=df_cleaned, x='co2_tier', hue='fuel_type')\n",
    "plt.title(\"Emission Tiers by Fuel Type\")\n",
    "plt.tight_layout()\n",
    "plt.show()\n"
   ]
  },
  {
   "cell_type": "code",
   "execution_count": null,
   "id": "ede9a665",
   "metadata": {},
   "outputs": [],
   "source": [
    "filtered_df = df_cleaned[~df_cleaned['logistics_partner'].isin(['Unknown', 'unknown']) & df_cleaned['logistics_partner'].notna()]\n",
    "logistics_efficiency = df_cleaned.groupby('logistics_partner')['co2_per_km'].mean().sort_values()\n",
    "\n",
    "# Top 5 most efficient\n",
    "top5_logistics = logistics_efficiency.head(5)\n",
    "print(\"Top 5 Efficient Logistics Partners (Lowest CO₂ per Km):\")\n",
    "print(top5_logistics)\n",
    "\n",
    "# Bottom 5 least efficient\n",
    "bottom5_logistics = logistics_efficiency.tail(5)\n",
    "print(\"\\nBottom 5 Least Efficient Logistics Partners (Highest CO₂ per Km):\")\n",
    "print(bottom5_logistics)\n"
   ]
  },
  {
   "cell_type": "code",
   "execution_count": null,
   "id": "0d561475",
   "metadata": {},
   "outputs": [],
   "source": [
    "# Bar Plot\n",
    "plt.figure(figsize=(10,5))\n",
    "top5_logistics.plot(kind='bar', color='green')\n",
    "plt.title('Top 5 Efficient Logistics Partners (CO₂ per Km)')\n",
    "plt.ylabel('Average CO₂ per Km')\n",
    "plt.xticks(rotation=45)\n",
    "plt.tight_layout()\n",
    "plt.show()\n",
    "\n",
    "plt.figure(figsize=(10,5))\n",
    "bottom5_logistics.plot(kind='bar', color='red')\n",
    "plt.title('Bottom 5 Least Efficient Logistics Partners (CO₂ per Km)')\n",
    "plt.ylabel('Average CO₂ per Km')\n",
    "plt.xticks(rotation=45)\n",
    "plt.tight_layout()\n",
    "plt.show()\n"
   ]
  },
  {
   "cell_type": "code",
   "execution_count": null,
   "id": "06aeee64",
   "metadata": {},
   "outputs": [],
   "source": [
    "df_cleaned.to_csv(\"../dataset/carbon_emission_final_engineered.csv\", index=False)"
   ]
  }
 ],
 "metadata": {
  "kernelspec": {
   "display_name": "myenv",
   "language": "python",
   "name": "python3"
  },
  "language_info": {
   "codemirror_mode": {
    "name": "ipython",
    "version": 3
   },
   "file_extension": ".py",
   "mimetype": "text/x-python",
   "name": "python",
   "nbconvert_exporter": "python",
   "pygments_lexer": "ipython3",
   "version": "3.13.4"
  }
 },
 "nbformat": 4,
 "nbformat_minor": 5
}
