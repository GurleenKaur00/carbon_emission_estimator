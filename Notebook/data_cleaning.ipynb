{
 "cells": [
  {
   "cell_type": "code",
   "execution_count": null,
   "id": "0260c27b",
   "metadata": {},
   "outputs": [],
   "source": [
    "import numpy as np\n",
    "import pandas as pd"
   ]
  },
  {
   "cell_type": "code",
   "execution_count": null,
   "id": "bd41ee79",
   "metadata": {},
   "outputs": [],
   "source": [
    "file_path = '../dataset/carbon_emission_dataset2.xlsx'\n",
    "df=pd.read_excel(file_path)"
   ]
  },
  {
   "cell_type": "code",
   "execution_count": null,
   "id": "bd280106",
   "metadata": {},
   "outputs": [],
   "source": [
    "print(\"Dataset Loaded Successfully\")\n",
    "print(\"Shape\",df.shape)\n",
    "\n"
   ]
  },
  {
   "cell_type": "code",
   "execution_count": null,
   "id": "99d1ab98",
   "metadata": {},
   "outputs": [],
   "source": [
    "df.sample(50)"
   ]
  },
  {
   "cell_type": "code",
   "execution_count": null,
   "id": "d4b85241",
   "metadata": {},
   "outputs": [],
   "source": [
    "df.head(50)"
   ]
  },
  {
   "cell_type": "code",
   "execution_count": null,
   "id": "4a4e2635",
   "metadata": {},
   "outputs": [],
   "source": [
    "df.tail(50)"
   ]
  },
  {
   "cell_type": "code",
   "execution_count": null,
   "id": "e34e8e7b",
   "metadata": {},
   "outputs": [],
   "source": [
    "df.describe()"
   ]
  },
  {
   "cell_type": "code",
   "execution_count": null,
   "id": "bca11f51",
   "metadata": {},
   "outputs": [],
   "source": [
    "df.info()"
   ]
  },
  {
   "cell_type": "markdown",
   "id": "a7cc8a4d",
   "metadata": {},
   "source": [
    "CLEANING COLUMN NAMES"
   ]
  },
  {
   "cell_type": "code",
   "execution_count": null,
   "id": "3ad9d09a",
   "metadata": {},
   "outputs": [],
   "source": [
    "df.columns = (\n",
    "    df.columns\n",
    "    .str.strip()\n",
    "    .str.lower()\n",
    "    .str.replace(' ', '_')\n",
    "    .str.replace('/', '_')\n",
    ")\n",
    "print(\"Column names cleaned\",df.columns)"
   ]
  },
  {
   "cell_type": "markdown",
   "id": "7b029e50",
   "metadata": {},
   "source": [
    "CHECKING NULL VALUES"
   ]
  },
  {
   "cell_type": "code",
   "execution_count": null,
   "id": "0eb0064a",
   "metadata": {},
   "outputs": [],
   "source": [
    "print(df[['fuel_type', 'adjusted_energy_kwh_per_km', 'total_energy_kwh']].isnull().sum())\n",
    "\n",
    "# Preview a few electric vehicle rows\n",
    "df[df['fuel_type'].str.lower().str.contains('electric', na=False)][['adjusted_energy_kwh_per_km', 'total_energy_kwh']].head(10)\n"
   ]
  },
  {
   "cell_type": "code",
   "execution_count": null,
   "id": "aa430595",
   "metadata": {},
   "outputs": [],
   "source": [
    "#MAKING A COPY\n",
    "df_cleaned = df.copy()"
   ]
  },
  {
   "cell_type": "code",
   "execution_count": null,
   "id": "21612918",
   "metadata": {},
   "outputs": [],
   "source": [
    "print(\"\\nEnergy column null counts in df_cleaned:\")\n",
    "print(df_cleaned[['adjusted_energy_kwh_per_km', 'total_energy_kwh']].isnull().sum())\n"
   ]
  },
  {
   "cell_type": "code",
   "execution_count": null,
   "id": "a702df23",
   "metadata": {},
   "outputs": [],
   "source": [
    "df_cleaned.info()"
   ]
  },
  {
   "cell_type": "code",
   "execution_count": null,
   "id": "59a10705",
   "metadata": {},
   "outputs": [],
   "source": [
    "df_cleaned.replace(['N/A', 'n/a', 'NA', '-', '--'], np.nan, inplace=True)\n",
    "print(\"Placeholder values replaced with NaN\",df.head(100))"
   ]
  },
  {
   "cell_type": "code",
   "execution_count": null,
   "id": "842d46b4",
   "metadata": {},
   "outputs": [],
   "source": [
    "df_cleaned.info()"
   ]
  },
  {
   "cell_type": "markdown",
   "id": "0777d0dc",
   "metadata": {},
   "source": [
    "CHECKING DUPLICATES"
   ]
  },
  {
   "cell_type": "code",
   "execution_count": null,
   "id": "6cf4db0b",
   "metadata": {},
   "outputs": [],
   "source": [
    "df_cleaned[df_cleaned.duplicated()]\n",
    "df_cleaned.duplicated().sum()"
   ]
  },
  {
   "cell_type": "code",
   "execution_count": null,
   "id": "f1bd51e0",
   "metadata": {},
   "outputs": [],
   "source": [
    "before = df_cleaned.shape[0]\n",
    "df_cleaned.drop_duplicates(inplace=True)\n",
    "after = df_cleaned.shape[0]\n",
    "print(f\"Dropped {before - after} duplicate rows\")"
   ]
  },
  {
   "cell_type": "code",
   "execution_count": null,
   "id": "dd5d66c6",
   "metadata": {},
   "outputs": [],
   "source": [
    "print(\"\\n Missing values per column:\\n\")\n",
    "print(df_cleaned.isnull().sum().sort_values(ascending=False))"
   ]
  },
  {
   "cell_type": "code",
   "execution_count": null,
   "id": "0dbaa640",
   "metadata": {},
   "outputs": [],
   "source": [
    "df_cleaned['logistics_partner'].value_counts()\n"
   ]
  },
  {
   "cell_type": "markdown",
   "id": "7541ac16",
   "metadata": {},
   "source": [
    "COUNT VALUES"
   ]
  },
  {
   "cell_type": "code",
   "execution_count": null,
   "id": "db756a91",
   "metadata": {},
   "outputs": [],
   "source": [
    "df_cleaned['logistics_partner'] = df_cleaned['logistics_partner'].str.strip().str.lower()\n",
    "df_cleaned['logistics_partner'] = df_cleaned['logistics_partner'].replace({\n",
    "    'bluedart': 'bluedart',\n",
    "    'ecom express': 'ecom express',\n",
    "    'xpressbees': 'xpressbees',\n",
    "    'shadowfax': 'shadowfax',\n",
    "    'vrl logistics': 'vrl logistics',\n",
    "    'tcl freight': 'tcl freight',\n",
    "    'dtdc': 'dtdc',\n",
    "    'loadshare': 'loadshare',\n",
    "    'adani logistics': 'adani logistics',\n",
    "    'concor': 'concor',\n",
    "    'spicexpress': 'spicexpress',\n",
    "    'gateway rai freight': 'gateway rail freight',  #typo\n",
    "    'safeexpress': 'safeexpress',\n",
    "    'quickjet airlines': 'quickjet airlines',\n",
    "    'gati': 'gati',\n",
    "    'amazon': 'amazon',\n",
    "    'flipkart': 'flipkart',\n",
    "    'delhivery': 'delhivery',\n",
    "    'rivigo': 'rivigo',\n",
    "})\n",
    "df_cleaned['logistics_partner'] = df_cleaned['logistics_partner'].str.title()\n",
    "print(df_cleaned['logistics_partner'].value_counts())\n"
   ]
  },
  {
   "cell_type": "code",
   "execution_count": null,
   "id": "0dea0534",
   "metadata": {},
   "outputs": [],
   "source": [
    "df_cleaned['vehicle_type'].value_counts()\n"
   ]
  },
  {
   "cell_type": "code",
   "execution_count": null,
   "id": "5291cdbe",
   "metadata": {},
   "outputs": [],
   "source": [
    "df_cleaned['vehicle_type'] = df_cleaned['vehicle_type'].str.strip().str.lower()\n",
    "df_cleaned['vehicle_type'] = df_cleaned['vehicle_type'].replace({\n",
    "    'van': 'van',\n",
    "    'light truck': 'light_truck',\n",
    "    'medium truck': 'medium_truck',\n",
    "    'heavy truck': 'heavy_truck',\n",
    "    'bike': 'bike',\n",
    "    'auto': 'auto',\n",
    "    'cargo train': 'train',\n",
    "    'spice jet cargo': 'air_cargo',\n",
    "    'cargo plane': 'air_cargo',\n",
    "    'amazon air partner': 'air_cargo',\n",
    "})\n",
    "df_cleaned['vehicle_type'] = df_cleaned['vehicle_type'].astype('category')\n",
    "print(\"\\nStandardized Vehicle Types:\\n\", df_cleaned['vehicle_type'].value_counts())\n"
   ]
  },
  {
   "cell_type": "code",
   "execution_count": null,
   "id": "1b732a7a",
   "metadata": {},
   "outputs": [],
   "source": [
    "df_cleaned['fuel_type'].unique()"
   ]
  },
  {
   "cell_type": "code",
   "execution_count": null,
   "id": "e385824f",
   "metadata": {},
   "outputs": [],
   "source": [
    "df_cleaned['fuel_type'] = df_cleaned['fuel_type'].astype(str).str.lower().str.strip()\n",
    "\n",
    "df_cleaned['fuel_type'] = df_cleaned['fuel_type'].replace({\n",
    "    'elecrtric': 'electric',\n",
    "    'ev': 'electric',\n",
    "})\n"
   ]
  },
  {
   "cell_type": "code",
   "execution_count": null,
   "id": "70ccb454",
   "metadata": {},
   "outputs": [],
   "source": [
    "print(df_cleaned['fuel_type'].value_counts())\n"
   ]
  },
  {
   "cell_type": "markdown",
   "id": "fd82557f",
   "metadata": {},
   "source": [
    "CLEANING NULL VALUES"
   ]
  },
  {
   "cell_type": "code",
   "execution_count": null,
   "id": "d4d6d7ae",
   "metadata": {},
   "outputs": [],
   "source": [
    "electric_mask = df_cleaned['fuel_type'].str.contains('electric', na=False)\n",
    "\n",
    "# Nullify energy data for non-electric vehicles\n",
    "df_cleaned.loc[~electric_mask, 'adjusted_energy_kwh_per_km'] = np.nan\n",
    "df_cleaned.loc[~electric_mask, 'total_energy_kwh'] = np.nan\n",
    "\n",
    "# Confirm\n",
    "print(df_cleaned[['adjusted_energy_kwh_per_km', 'total_energy_kwh']].isnull().sum())\n"
   ]
  },
  {
   "cell_type": "code",
   "execution_count": null,
   "id": "8b5f2a4a",
   "metadata": {},
   "outputs": [],
   "source": [
    "df_cleaned['traffic_condition'] = df_cleaned['traffic_condition'].str.lower().str.strip().str.replace('-', '', regex=False)\n",
    "traffic_map = {\n",
    "    'medium': 'moderate',\n",
    "    'light': 'low',\n",
    "    'high': 'heavy'\n",
    "}\n",
    "\n",
    "df_cleaned['traffic_condition'] = df_cleaned['traffic_condition'].replace(traffic_map)\n",
    "df_cleaned['traffic_condition'] = df_cleaned['traffic_condition'].str.capitalize()\n",
    "\n"
   ]
  },
  {
   "cell_type": "code",
   "execution_count": null,
   "id": "dbccc0be",
   "metadata": {},
   "outputs": [],
   "source": [
    "print(df_cleaned['traffic_condition'].value_counts())"
   ]
  },
  {
   "cell_type": "code",
   "execution_count": null,
   "id": "c926bda6",
   "metadata": {},
   "outputs": [],
   "source": [
    "df_cleaned['engine_norm_type'] = df_cleaned['engine_norm_type'].str.upper().str.strip().str.replace('-', '', regex=False)\n",
    "\n",
    "# Step 2: Create mapping dictionary\n",
    "norm_map = {\n",
    "    'BS3': 'BS-III',\n",
    "    'BSIII': 'BS-III',\n",
    "    'BS4': 'BS-IV',\n",
    "    'BSIV': 'BS-IV',\n",
    "    'BS6': 'BS-VI',\n",
    "    'BSVI': 'BS-VI',\n",
    "    'ELECTRIC': 'Electric',\n",
    "    'TURBOPROP': 'Turboprop',\n",
    "    'TURBOFAN': 'Turbofan',\n",
    "    'JET': 'Jet',\n",
    "    'NA': 'N/A',  # If NA means Electric\n",
    "    'N/A': 'N/A',\n",
    "    'NONE': 'N/A',\n",
    "    np.nan: 'N/A'\n",
    "}\n",
    "\n",
    "df_cleaned['engine_norm_type'] = df_cleaned['engine_norm_type'].replace(norm_map)\n",
    "\n",
    "\n"
   ]
  },
  {
   "cell_type": "code",
   "execution_count": null,
   "id": "915b372c",
   "metadata": {},
   "outputs": [],
   "source": [
    "df_cleaned['engine_norm_type'] = df_cleaned['engine_norm_type'].fillna('Unknown')\n",
    "df_cleaned['engine_norm_type'].sample(50)"
   ]
  },
  {
   "cell_type": "code",
   "execution_count": null,
   "id": "4e5dfed4",
   "metadata": {},
   "outputs": [],
   "source": [
    "print(\"\\nNormalized Engine Norm Types:\\n\", df_cleaned['engine_norm_type'].value_counts())"
   ]
  },
  {
   "cell_type": "code",
   "execution_count": null,
   "id": "db163ea7",
   "metadata": {},
   "outputs": [],
   "source": [
    "df_cleaned.loc[~electric_mask, 'fuel_consumption_in_litre'] = (\n",
    "    df_cleaned[~electric_mask]\n",
    "    .groupby('vehicle_type')['fuel_consumption_in_litre']\n",
    "    .transform(lambda x: x.fillna(x.mean()))\n",
    ")\n"
   ]
  },
  {
   "cell_type": "code",
   "execution_count": null,
   "id": "e14b5d21",
   "metadata": {},
   "outputs": [],
   "source": [
    "df_cleaned['adjusted_fuel_efficiency_in_km_litre'].describe()\n"
   ]
  },
  {
   "cell_type": "code",
   "execution_count": null,
   "id": "2a04a10e",
   "metadata": {},
   "outputs": [],
   "source": [
    "df_cleaned.loc[electric_mask, 'adjusted_fuel_efficiency_in_km_litre'] = np.nan\n"
   ]
  },
  {
   "cell_type": "code",
   "execution_count": null,
   "id": "4f63414d",
   "metadata": {},
   "outputs": [],
   "source": [
    "print(df_cleaned['adjusted_fuel_efficiency_in_km_litre'].isnull().sum())\n"
   ]
  },
  {
   "cell_type": "markdown",
   "id": "9cae51e3",
   "metadata": {},
   "source": [
    "MAPPING DATA TYPES OF FEATURES"
   ]
  },
  {
   "cell_type": "code",
   "execution_count": null,
   "id": "f01d8244",
   "metadata": {},
   "outputs": [],
   "source": [
    "df_cleaned['no_of_stop'] = df_cleaned['no_of_stop'].astype(int)\n",
    "df_cleaned['vehicle_age_in_years'] = df_cleaned['vehicle_age_in_years'].astype(int)\n",
    "df_cleaned['traffic_condition'] = df_cleaned['traffic_condition'].astype('category')\n",
    "df_cleaned['mode'] = df_cleaned['mode'].astype('category')\n",
    "df_cleaned['fuel_type'] = df_cleaned['fuel_type'].astype('category')\n",
    "df_cleaned['vehicle_type'] = df_cleaned['vehicle_type'].astype('category')\n",
    "df_cleaned['logistics_partner'] = df_cleaned['logistics_partner'].astype('category')\n",
    "df_cleaned['distance_in_km_per_route'] = df_cleaned['distance_in_km_per_route'].astype(int)"
   ]
  },
  {
   "cell_type": "code",
   "execution_count": null,
   "id": "ee7b20f2",
   "metadata": {},
   "outputs": [],
   "source": [
    "df_cleaned[['distance_in_km_per_route', 'fuel_consumption_in_litre', 'adjusted_fuel_efficiency_in_km_litre', 'c02_emission_kg']].describe()\n"
   ]
  },
  {
   "cell_type": "code",
   "execution_count": null,
   "id": "b767229e",
   "metadata": {},
   "outputs": [],
   "source": [
    "print(\"\\nFINAL MISSING VALUE REPORT:\")\n",
    "print(df_cleaned.isnull().sum().sort_values(ascending=False))\n"
   ]
  },
  {
   "cell_type": "code",
   "execution_count": null,
   "id": "c66569eb",
   "metadata": {},
   "outputs": [],
   "source": [
    "df_cleaned.to_csv(\"../dataset/carbon_emission_cleaned.csv\", index=False)"
   ]
  }
 ],
 "metadata": {
  "kernelspec": {
   "display_name": "myenv",
   "language": "python",
   "name": "python3"
  },
  "language_info": {
   "codemirror_mode": {
    "name": "ipython",
    "version": 3
   },
   "file_extension": ".py",
   "mimetype": "text/x-python",
   "name": "python",
   "nbconvert_exporter": "python",
   "pygments_lexer": "ipython3",
   "version": "3.13.4"
  }
 },
 "nbformat": 4,
 "nbformat_minor": 5
}
